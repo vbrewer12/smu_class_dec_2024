{
 "cells": [
  {
   "cell_type": "code",
   "execution_count": 258,
   "id": "9652077d-09a6-488c-8159-4b5f56daf116",
   "metadata": {},
   "outputs": [],
   "source": [
    "#single line comment in python is a hashtag before it"
   ]
  },
  {
   "cell_type": "code",
   "execution_count": 259,
   "id": "9220790f-813d-4077-bacd-fb1f8e87317e",
   "metadata": {},
   "outputs": [
    {
     "data": {
      "text/plain": [
       "'\\nthis \\nis\\nyou\\nmulti line\\ncommenting\\n\\nanything in betewen those 3 quotations is a comment not a code cell\\n\\n\\n'"
      ]
     },
     "execution_count": 259,
     "metadata": {},
     "output_type": "execute_result"
    }
   ],
   "source": [
    "\"\"\"\n",
    "this \n",
    "is\n",
    "you\n",
    "multi line\n",
    "commenting\n",
    "\n",
    "anything in betewen those 3 quotations is a comment not a code cell\n",
    "\n",
    "\n",
    "\"\"\""
   ]
  },
  {
   "cell_type": "markdown",
   "id": "d2a0cdfb-cda8-4823-9523-1f9f958b8111",
   "metadata": {},
   "source": [
    "import pandas as pd\n",
    "\n",
    "# to make this the markdown, on dropdown, just select the markdown"
   ]
  },
  {
   "cell_type": "code",
   "execution_count": 261,
   "id": "517d46a0-744f-40e4-9818-b86ba5fae70b",
   "metadata": {},
   "outputs": [
    {
     "data": {
      "text/plain": [
       "'\\nto run your code in notebook\\n\\nctrl + enter, it runs the code and keeps the cursor where it was\\n\\nshift + enter, it runs the code and goes to the next code cell\\n\\n\\n'"
      ]
     },
     "execution_count": 261,
     "metadata": {},
     "output_type": "execute_result"
    }
   ],
   "source": [
    "\"\"\"\n",
    "to run your code in notebook\n",
    "\n",
    "ctrl + enter, it runs the code and keeps the cursor where it was\n",
    "\n",
    "shift + enter, it runs the code and goes to the next code cell\n",
    "\n",
    "\n",
    "\"\"\""
   ]
  },
  {
   "cell_type": "markdown",
   "id": "fa23c793-e61c-4a1d-8cb5-3675692936c9",
   "metadata": {},
   "source": [
    "# how to print"
   ]
  },
  {
   "cell_type": "code",
   "execution_count": 263,
   "id": "d2d4b9c3-3ef9-43c8-aebd-599f24ed9995",
   "metadata": {},
   "outputs": [],
   "source": [
    "planet = \"earth\" # planet is a variable that is holding the string value\n",
    "diameter = 12742 # diameter is a variable that is holding an integer value"
   ]
  },
  {
   "cell_type": "code",
   "execution_count": 264,
   "id": "506ba585-b9db-4d46-a2ce-3c3089bc0c00",
   "metadata": {},
   "outputs": [
    {
     "data": {
      "text/plain": [
       "12742"
      ]
     },
     "execution_count": 264,
     "metadata": {},
     "output_type": "execute_result"
    }
   ],
   "source": [
    "diameter"
   ]
  },
  {
   "cell_type": "code",
   "execution_count": 265,
   "id": "f2e5c493-8304-4c23-8290-1c7a13d021ab",
   "metadata": {},
   "outputs": [
    {
     "name": "stdout",
     "output_type": "stream",
     "text": [
      "12742\n"
     ]
    }
   ],
   "source": [
    "print(diameter)"
   ]
  },
  {
   "cell_type": "code",
   "execution_count": 266,
   "id": "79bdcee2-0cbb-4e4c-8fe1-4bbf3600dd59",
   "metadata": {},
   "outputs": [
    {
     "data": {
      "text/plain": [
       "int"
      ]
     },
     "execution_count": 266,
     "metadata": {},
     "output_type": "execute_result"
    }
   ],
   "source": [
    "type(diameter)"
   ]
  },
  {
   "cell_type": "code",
   "execution_count": 267,
   "id": "be627d78-81bc-443f-823f-172c6d7c6c28",
   "metadata": {},
   "outputs": [
    {
     "data": {
      "text/plain": [
       "str"
      ]
     },
     "execution_count": 267,
     "metadata": {},
     "output_type": "execute_result"
    }
   ],
   "source": [
    "type(planet)"
   ]
  },
  {
   "cell_type": "code",
   "execution_count": 268,
   "id": "5978af4a-ca3b-439f-9dff-4bb61fac4b6c",
   "metadata": {},
   "outputs": [
    {
     "data": {
      "text/plain": [
       "'earth'"
      ]
     },
     "execution_count": 268,
     "metadata": {},
     "output_type": "execute_result"
    }
   ],
   "source": [
    "planet"
   ]
  },
  {
   "cell_type": "code",
   "execution_count": 269,
   "id": "a0baf333-08c1-4a00-9ba1-8e35d90de0c7",
   "metadata": {},
   "outputs": [
    {
     "name": "stdout",
     "output_type": "stream",
     "text": [
      "earth\n"
     ]
    }
   ],
   "source": [
    "print(planet)"
   ]
  },
  {
   "cell_type": "code",
   "execution_count": 270,
   "id": "00edf846-324e-4200-a81f-7246d314a130",
   "metadata": {},
   "outputs": [
    {
     "name": "stdout",
     "output_type": "stream",
     "text": [
      "the diameter of earth is 12742\n"
     ]
    }
   ],
   "source": [
    "# first way of printing\n",
    "\n",
    "\n",
    "print(\"the diameter of {variable1} is {variable2}\".format(variable1 = planet, variable2 = diameter))"
   ]
  },
  {
   "cell_type": "code",
   "execution_count": 271,
   "id": "a3bd2520-3210-4d17-9382-1b66fffe8e3f",
   "metadata": {},
   "outputs": [
    {
     "name": "stdout",
     "output_type": "stream",
     "text": [
      "the diameter of earth is 12742\n"
     ]
    }
   ],
   "source": [
    "# second way of printing\n",
    "# after() start your sentence with double quotes then add(+) the variable and \n",
    "# continue your sentence the following way\n",
    "\n",
    "print(\"the diameter of \" + planet + \" is \" + str(diameter))"
   ]
  },
  {
   "cell_type": "code",
   "execution_count": 272,
   "id": "8eb88a5c-a4b4-4c73-a688-6ef28a86a4ed",
   "metadata": {},
   "outputs": [
    {
     "name": "stdout",
     "output_type": "stream",
     "text": [
      "the diameter of earth is 12742\n"
     ]
    }
   ],
   "source": [
    "# thid way of printing\n",
    "# f-string\n",
    "# don't have to add teh + with the f at the beginning of the string\n",
    "\n",
    "\n",
    "print(f\"the diameter of {planet} is {diameter}\")\n"
   ]
  },
  {
   "cell_type": "markdown",
   "id": "f408025f-f4aa-4356-9beb-c635c17cbef8",
   "metadata": {},
   "source": [
    "# Data types"
   ]
  },
  {
   "cell_type": "code",
   "execution_count": 274,
   "id": "edfa410f-bd2c-4a2b-9d29-3f37d65a36af",
   "metadata": {},
   "outputs": [
    {
     "data": {
      "text/plain": [
       "'\\nnumerical: int, float\\nboolean: bool           True False\\nset: set                set() {} {set cannot have duplicates} {sets only contain the \\n                          values, not the keys}\\nstring/text: str        str() \\'\\' \"\"\\ntuple: tuple            tuple() ()\\nlist: list              list()  [] known as array in other programs\\ndictionary: dict        dict()  {\"key\":\"value\"}\\n\\n\\nsome notes:\\nsets cannot have dulplications\\ntuple cannot be mutatued\\nlist can contain mix data types and can be mutated\\ndictionary is also called key-value pair, or in javascript, its is called object\\njson is another key-value pair example\\n'"
      ]
     },
     "execution_count": 274,
     "metadata": {},
     "output_type": "execute_result"
    }
   ],
   "source": [
    "\"\"\"\n",
    "numerical: int, float\n",
    "boolean: bool           True False\n",
    "set: set                set() {} {set cannot have duplicates} {sets only contain the \n",
    "                          values, not the keys}\n",
    "string/text: str        str() '' \"\"\n",
    "tuple: tuple            tuple() ()\n",
    "list: list              list()  [] known as array in other programs\n",
    "dictionary: dict        dict()  {\"key\":\"value\"}\n",
    "\n",
    "\n",
    "some notes:\n",
    "sets cannot have dulplications\n",
    "tuple cannot be mutatued\n",
    "list can contain mix data types and can be mutated\n",
    "dictionary is also called key-value pair, or in javascript, its is called object\n",
    "json is another key-value pair example\n",
    "\"\"\""
   ]
  },
  {
   "cell_type": "markdown",
   "id": "db470d87-6eb5-498e-b899-1b7a6375f052",
   "metadata": {},
   "source": [
    "### numerical"
   ]
  },
  {
   "cell_type": "code",
   "execution_count": 276,
   "id": "13797abd-8d27-43f1-b3ee-bc81000e6889",
   "metadata": {},
   "outputs": [
    {
     "data": {
      "text/plain": [
       "int"
      ]
     },
     "execution_count": 276,
     "metadata": {},
     "output_type": "execute_result"
    }
   ],
   "source": [
    "a = 5\n",
    "type (a)"
   ]
  },
  {
   "cell_type": "code",
   "execution_count": 277,
   "id": "6dbc5508-f717-4aa3-ae70-24247d29542e",
   "metadata": {},
   "outputs": [
    {
     "data": {
      "text/plain": [
       "float"
      ]
     },
     "execution_count": 277,
     "metadata": {},
     "output_type": "execute_result"
    }
   ],
   "source": [
    "b = 5.8\n",
    "type(b)"
   ]
  },
  {
   "cell_type": "code",
   "execution_count": 278,
   "id": "33ce43f1-fb1d-4678-b4f2-d705c740c0e9",
   "metadata": {},
   "outputs": [
    {
     "data": {
      "text/plain": [
       "5"
      ]
     },
     "execution_count": 278,
     "metadata": {},
     "output_type": "execute_result"
    }
   ],
   "source": [
    "int(b) # convert float b to integer b. and it floors the value"
   ]
  },
  {
   "cell_type": "code",
   "execution_count": 279,
   "id": "5853e2f0-0ac5-48ca-b2ba-1890d5c2ebc5",
   "metadata": {},
   "outputs": [
    {
     "data": {
      "text/plain": [
       "5.0"
      ]
     },
     "execution_count": 279,
     "metadata": {},
     "output_type": "execute_result"
    }
   ],
   "source": [
    "float(a) # conver integer a to float b. and it has a 0 as a decimal"
   ]
  },
  {
   "cell_type": "markdown",
   "id": "b4b9f01b-76f9-4344-94c8-e44596be011b",
   "metadata": {},
   "source": [
    "### boolean"
   ]
  },
  {
   "cell_type": "code",
   "execution_count": 281,
   "id": "aea8e109-f793-4a25-b7bb-d7457a12c4fd",
   "metadata": {},
   "outputs": [],
   "source": [
    "c = False"
   ]
  },
  {
   "cell_type": "code",
   "execution_count": 282,
   "id": "7b7b8481-be72-4ea6-ae53-f9e943d82d0f",
   "metadata": {},
   "outputs": [],
   "source": [
    "d = True"
   ]
  },
  {
   "cell_type": "code",
   "execution_count": 283,
   "id": "18efdb57-466a-4157-983b-b40a9162ec13",
   "metadata": {},
   "outputs": [
    {
     "data": {
      "text/plain": [
       "bool"
      ]
     },
     "execution_count": 283,
     "metadata": {},
     "output_type": "execute_result"
    }
   ],
   "source": [
    "type(c)"
   ]
  },
  {
   "cell_type": "markdown",
   "id": "e82b8240-74fb-497d-bd27-03607367c69e",
   "metadata": {},
   "source": [
    "### sets"
   ]
  },
  {
   "cell_type": "code",
   "execution_count": 285,
   "id": "d22f6c7d-e36b-481b-af0b-ad56bfe0ac78",
   "metadata": {},
   "outputs": [],
   "source": [
    "my_set = {1,2,3,4,4,5,1,2, \"a\", \"b\", \"c\", \"a\", 7, a, b, c, d}"
   ]
  },
  {
   "cell_type": "code",
   "execution_count": 286,
   "id": "1919ee0e-fdef-4435-a19c-842314b84609",
   "metadata": {},
   "outputs": [
    {
     "data": {
      "text/plain": [
       "set"
      ]
     },
     "execution_count": 286,
     "metadata": {},
     "output_type": "execute_result"
    }
   ],
   "source": [
    "type(my_set)"
   ]
  },
  {
   "cell_type": "code",
   "execution_count": 287,
   "id": "35005dd1-6e5e-4bf3-b30b-1ab0564cb9eb",
   "metadata": {},
   "outputs": [
    {
     "data": {
      "text/plain": [
       "{1, 2, 3, 4, 5, 5.8, 7, False, 'a', 'b', 'c'}"
      ]
     },
     "execution_count": 287,
     "metadata": {},
     "output_type": "execute_result"
    }
   ],
   "source": [
    "my_set"
   ]
  },
  {
   "cell_type": "code",
   "execution_count": 288,
   "id": "ce2b563b-3025-4e76-94fc-3580b8fc0bb4",
   "metadata": {},
   "outputs": [],
   "source": [
    "# question: what was the value of d\n",
    "# value of d is true\n",
    "# true = 1 and d and are treated the same in this instance"
   ]
  },
  {
   "cell_type": "code",
   "execution_count": 289,
   "id": "3108effd-8796-4e73-ad7c-ca88be40eb82",
   "metadata": {},
   "outputs": [
    {
     "data": {
      "text/plain": [
       "140722976336312"
      ]
     },
     "execution_count": 289,
     "metadata": {},
     "output_type": "execute_result"
    }
   ],
   "source": [
    "id(hash(d))"
   ]
  },
  {
   "cell_type": "code",
   "execution_count": 290,
   "id": "d5b87598-c5dd-4032-9a3c-88f553d678db",
   "metadata": {},
   "outputs": [],
   "source": [
    "my_set.add(\"vanessa\")"
   ]
  },
  {
   "cell_type": "code",
   "execution_count": 291,
   "id": "7276b072-69f1-445f-b629-bc382221335f",
   "metadata": {},
   "outputs": [
    {
     "data": {
      "text/plain": [
       "{1, 2, 3, 4, 5, 5.8, 7, False, 'a', 'b', 'c', 'vanessa'}"
      ]
     },
     "execution_count": 291,
     "metadata": {},
     "output_type": "execute_result"
    }
   ],
   "source": [
    "my_set"
   ]
  },
  {
   "cell_type": "code",
   "execution_count": 292,
   "id": "fc1d5391-ee5c-4de1-8e6a-76888ecbef10",
   "metadata": {},
   "outputs": [
    {
     "data": {
      "text/plain": [
       "'a'"
      ]
     },
     "execution_count": 292,
     "metadata": {},
     "output_type": "execute_result"
    }
   ],
   "source": [
    "my_set.pop()"
   ]
  },
  {
   "cell_type": "code",
   "execution_count": 293,
   "id": "018e3a54-c13a-4fc6-89af-371d8feaaa37",
   "metadata": {},
   "outputs": [
    {
     "data": {
      "text/plain": [
       "{1, 2, 3, 4, 5, 5.8, 7, False, 'b', 'c', 'vanessa'}"
      ]
     },
     "execution_count": 293,
     "metadata": {},
     "output_type": "execute_result"
    }
   ],
   "source": [
    "my_set"
   ]
  },
  {
   "cell_type": "code",
   "execution_count": 294,
   "id": "c73fecff-66fb-4632-ae0b-2cbf56d1c9a0",
   "metadata": {},
   "outputs": [],
   "source": [
    "my_set.remove(\"vanessa\")"
   ]
  },
  {
   "cell_type": "code",
   "execution_count": 295,
   "id": "d9dc8058-6d67-4a44-9457-7a6e0a5d87d0",
   "metadata": {},
   "outputs": [
    {
     "data": {
      "text/plain": [
       "{1, 2, 3, 4, 5, 5.8, 7, False, 'b', 'c'}"
      ]
     },
     "execution_count": 295,
     "metadata": {},
     "output_type": "execute_result"
    }
   ],
   "source": [
    "my_set"
   ]
  },
  {
   "cell_type": "code",
   "execution_count": 296,
   "id": "dd315511-4035-4fd0-be7d-116d192b6497",
   "metadata": {},
   "outputs": [],
   "source": [
    "my_set2 = {1,2,\"k\", \"l\",\"o\"}"
   ]
  },
  {
   "cell_type": "code",
   "execution_count": 297,
   "id": "63de9bea-fa99-46eb-96cb-04a2c3cd45cd",
   "metadata": {},
   "outputs": [
    {
     "data": {
      "text/plain": [
       "{1, 2}"
      ]
     },
     "execution_count": 297,
     "metadata": {},
     "output_type": "execute_result"
    }
   ],
   "source": [
    "my_set.intersection(my_set2)"
   ]
  },
  {
   "cell_type": "code",
   "execution_count": 298,
   "id": "82df39a3-6abc-4c42-8d84-b09b6d228416",
   "metadata": {},
   "outputs": [
    {
     "data": {
      "text/plain": [
       "{1, 2, 3, 4, 5, 5.8, 7, False, 'b', 'c'}"
      ]
     },
     "execution_count": 298,
     "metadata": {},
     "output_type": "execute_result"
    }
   ],
   "source": [
    "my_set"
   ]
  },
  {
   "cell_type": "markdown",
   "id": "98661b2f-33d3-4c41-a1e8-2d43c2504eea",
   "metadata": {},
   "source": [
    "### tuple"
   ]
  },
  {
   "cell_type": "code",
   "execution_count": 300,
   "id": "640ab721-9a61-40b1-84c8-ebafd7d1306c",
   "metadata": {},
   "outputs": [],
   "source": [
    "my_tuple = (1,2,3,4,4,5,1,2, \"a\", \"b\", \"c\", \"a\", 7, a, b, c, d)"
   ]
  },
  {
   "cell_type": "code",
   "execution_count": 301,
   "id": "5016b0cd-54eb-49d9-aaa4-9e7093674770",
   "metadata": {},
   "outputs": [
    {
     "data": {
      "text/plain": [
       "(1, 2, 3, 4, 4, 5, 1, 2, 'a', 'b', 'c', 'a', 7, 5, 5.8, False, True)"
      ]
     },
     "execution_count": 301,
     "metadata": {},
     "output_type": "execute_result"
    }
   ],
   "source": [
    "my_tuple"
   ]
  },
  {
   "cell_type": "code",
   "execution_count": 302,
   "id": "e8bfa5dc-cee9-4305-8ad1-edd775a94e80",
   "metadata": {},
   "outputs": [],
   "source": [
    "# in sets what you give is not what you get.\n",
    "# tuple will print every key value: what you give is what you get"
   ]
  },
  {
   "cell_type": "code",
   "execution_count": 303,
   "id": "200e01e5-94db-46ff-b603-0cbef747791f",
   "metadata": {},
   "outputs": [
    {
     "data": {
      "text/plain": [
       "'c'"
      ]
     },
     "execution_count": 303,
     "metadata": {},
     "output_type": "execute_result"
    }
   ],
   "source": [
    "my_tuple[10]"
   ]
  },
  {
   "cell_type": "code",
   "execution_count": 304,
   "id": "15643dcc-5ec8-457e-b658-871a4d781c30",
   "metadata": {},
   "outputs": [
    {
     "data": {
      "text/plain": [
       "3"
      ]
     },
     "execution_count": 304,
     "metadata": {},
     "output_type": "execute_result"
    }
   ],
   "source": [
    "my_tuple.count(1)\n",
    "# how many times the value of 1 apprears in my_tuple"
   ]
  },
  {
   "cell_type": "code",
   "execution_count": 305,
   "id": "55c5c207-30dc-46ac-bc3f-765d8a906031",
   "metadata": {},
   "outputs": [
    {
     "data": {
      "text/plain": [
       "8"
      ]
     },
     "execution_count": 305,
     "metadata": {},
     "output_type": "execute_result"
    }
   ],
   "source": [
    "my_tuple.index(\"a\")\n",
    "# index location of \"a\" appearing in my_tuple is 8"
   ]
  },
  {
   "cell_type": "code",
   "execution_count": 306,
   "id": "72228bc4-12de-47f5-ab51-0cdd51a171b4",
   "metadata": {},
   "outputs": [],
   "source": [
    "my_tuple2 = my_tuple +(\"vanessa\", \"charlie\", 999)"
   ]
  },
  {
   "cell_type": "code",
   "execution_count": 307,
   "id": "f694553b-08da-4b29-9f73-a0ab398dfa33",
   "metadata": {},
   "outputs": [
    {
     "data": {
      "text/plain": [
       "(1,\n",
       " 2,\n",
       " 3,\n",
       " 4,\n",
       " 4,\n",
       " 5,\n",
       " 1,\n",
       " 2,\n",
       " 'a',\n",
       " 'b',\n",
       " 'c',\n",
       " 'a',\n",
       " 7,\n",
       " 5,\n",
       " 5.8,\n",
       " False,\n",
       " True,\n",
       " 'vanessa',\n",
       " 'charlie',\n",
       " 999)"
      ]
     },
     "execution_count": 307,
     "metadata": {},
     "output_type": "execute_result"
    }
   ],
   "source": [
    "my_tuple2"
   ]
  },
  {
   "cell_type": "raw",
   "id": "0e54af69-ca2c-420b-a39c-574cb30604bc",
   "metadata": {},
   "source": [
    "print(my_tuple2)"
   ]
  },
  {
   "cell_type": "markdown",
   "id": "a14c6b9a-0d63-4ee4-8744-54b33c9e4798",
   "metadata": {},
   "source": [
    "### string"
   ]
  },
  {
   "cell_type": "code",
   "execution_count": 309,
   "id": "ae0bff04-21dd-4f78-9133-8d5e7b7d4df6",
   "metadata": {},
   "outputs": [],
   "source": [
    "my_str = \" python IS nice: % ^ @ 1 2 3  i like it \""
   ]
  },
  {
   "cell_type": "code",
   "execution_count": 310,
   "id": "bb265e82-3fad-47d2-b74d-3ef9c79ac5b6",
   "metadata": {},
   "outputs": [
    {
     "data": {
      "text/plain": [
       "str"
      ]
     },
     "execution_count": 310,
     "metadata": {},
     "output_type": "execute_result"
    }
   ],
   "source": [
    "type(my_str)"
   ]
  },
  {
   "cell_type": "code",
   "execution_count": 311,
   "id": "610b0f90-4d6b-4ef4-9b64-6977cebae632",
   "metadata": {},
   "outputs": [
    {
     "data": {
      "text/plain": [
       "' python is nice: % ^ @ 1 2 3  i like it '"
      ]
     },
     "execution_count": 311,
     "metadata": {},
     "output_type": "execute_result"
    }
   ],
   "source": [
    "my_str.capitalize()"
   ]
  },
  {
   "cell_type": "code",
   "execution_count": 312,
   "id": "ad9c3254-5689-4aeb-8be2-bacfa85bb09e",
   "metadata": {},
   "outputs": [
    {
     "data": {
      "text/plain": [
       "' python IS nick: % ^ @ 1 2 3  i likk it '"
      ]
     },
     "execution_count": 312,
     "metadata": {},
     "output_type": "execute_result"
    }
   ],
   "source": [
    "my_str.replace(\"e\",\"k\")"
   ]
  },
  {
   "cell_type": "code",
   "execution_count": 313,
   "id": "1488adfd-13ee-4726-bd86-189cc93b18eb",
   "metadata": {},
   "outputs": [
    {
     "data": {
      "text/plain": [
       "'pythonISnice:%^@123ilikeit'"
      ]
     },
     "execution_count": 313,
     "metadata": {},
     "output_type": "execute_result"
    }
   ],
   "source": [
    "my_str.replace(\" \", \"\") # a single space replaced with no spcae"
   ]
  },
  {
   "cell_type": "code",
   "execution_count": 314,
   "id": "06d04efa-fd9e-4b9a-98ab-9f94526d4447",
   "metadata": {},
   "outputs": [
    {
     "data": {
      "text/plain": [
       "' python IS nice: % ^ @ 1 2 3i like it '"
      ]
     },
     "execution_count": 314,
     "metadata": {},
     "output_type": "execute_result"
    }
   ],
   "source": [
    "my_str.replace(\"  \", \"\") #double space replaced with no space"
   ]
  },
  {
   "cell_type": "code",
   "execution_count": 374,
   "id": "b20a7acd-fced-4924-b730-d19130b846b8",
   "metadata": {},
   "outputs": [
    {
     "data": {
      "text/plain": [
       "' PYTHON IS NICE: % ^ @ 1 2 3  I LIKE IT '"
      ]
     },
     "execution_count": 374,
     "metadata": {},
     "output_type": "execute_result"
    }
   ],
   "source": [
    "my_str.upper()\n",
    "\n",
    "# there are some funtions that are in place = true by default\n",
    "# what i mean by this is that the change you made is modifying the original\n",
    "# in place = True is like you assign the result backt to itself"
   ]
  },
  {
   "cell_type": "code",
   "execution_count": 316,
   "id": "79ef12d0-fde0-46fb-b49f-30b84555bce0",
   "metadata": {},
   "outputs": [
    {
     "data": {
      "text/plain": [
       "' python is nice: % ^ @ 1 2 3  i like it '"
      ]
     },
     "execution_count": 316,
     "metadata": {},
     "output_type": "execute_result"
    }
   ],
   "source": [
    "my_str.lower()"
   ]
  },
  {
   "cell_type": "code",
   "execution_count": 376,
   "id": "fd71ab00-5f11-4b1b-bed5-bb64634c5bac",
   "metadata": {},
   "outputs": [
    {
     "data": {
      "text/plain": [
       "['python', 'IS', 'nice:', '%', '^', '@', '1', '2', '3', 'i', 'like', 'it']"
      ]
     },
     "execution_count": 376,
     "metadata": {},
     "output_type": "execute_result"
    }
   ],
   "source": [
    "my_str.split()\n",
    "# once I split my sting it becomes a list"
   ]
  },
  {
   "cell_type": "code",
   "execution_count": 318,
   "id": "75aad188-27ff-4609-a67c-6732891d0fb3",
   "metadata": {},
   "outputs": [
    {
     "data": {
      "text/plain": [
       "[' python IS nice', ' % ^ @ 1 2 3  i like it ']"
      ]
     },
     "execution_count": 318,
     "metadata": {},
     "output_type": "execute_result"
    }
   ],
   "source": [
    "my_str.split(\":\")"
   ]
  },
  {
   "cell_type": "code",
   "execution_count": 380,
   "id": "bb00953f-d662-4e5b-a0e3-d8e7c73b9310",
   "metadata": {},
   "outputs": [
    {
     "data": {
      "text/plain": [
       "6"
      ]
     },
     "execution_count": 380,
     "metadata": {},
     "output_type": "execute_result"
    }
   ],
   "source": [
    "my_str.find(\"n\")\n",
    "# character n's index location is 6"
   ]
  },
  {
   "cell_type": "code",
   "execution_count": 388,
   "id": "95050c4e-1971-496e-a163-1bb2a2b06cf4",
   "metadata": {},
   "outputs": [
    {
     "data": {
      "text/plain": [
       "'python IS nice: % ^ @ 1 2 3  i like it'"
      ]
     },
     "execution_count": 388,
     "metadata": {},
     "output_type": "execute_result"
    }
   ],
   "source": [
    "my_str.strip()"
   ]
  },
  {
   "cell_type": "code",
   "execution_count": 390,
   "id": "91f1edaa-f467-4ac5-916d-a606da67319c",
   "metadata": {},
   "outputs": [
    {
     "data": {
      "text/plain": [
       "' Python Is Nice: % ^ @ 1 2 3  I Like It '"
      ]
     },
     "execution_count": 390,
     "metadata": {},
     "output_type": "execute_result"
    }
   ],
   "source": [
    "my_str.rstrip()\n",
    "my_str.lstrip()\n",
    "my_str.swapcase()\n",
    "my_str.title()"
   ]
  },
  {
   "cell_type": "markdown",
   "id": "c83ff113-2a92-47f1-ac7b-ea0b05780b1c",
   "metadata": {},
   "source": [
    "### list"
   ]
  },
  {
   "cell_type": "code",
   "execution_count": 393,
   "id": "9fbb84c0-baed-48e0-8ca4-bdef1c4ecc0a",
   "metadata": {},
   "outputs": [],
   "source": [
    "my_list = [1,2,3,4,'a','b','c','d','e']"
   ]
  },
  {
   "cell_type": "code",
   "execution_count": 395,
   "id": "361cd8a4-ca06-4490-aa87-2dd92a704104",
   "metadata": {},
   "outputs": [
    {
     "data": {
      "text/plain": [
       "list"
      ]
     },
     "execution_count": 395,
     "metadata": {},
     "output_type": "execute_result"
    }
   ],
   "source": [
    "type(my_list)"
   ]
  },
  {
   "cell_type": "code",
   "execution_count": 397,
   "id": "7a68b21e-0415-4cfb-b328-1741e74f3f0a",
   "metadata": {},
   "outputs": [
    {
     "data": {
      "text/plain": [
       "[1, 2, 3, 4, 'a', 'b', 'c', 'd', 'e']"
      ]
     },
     "execution_count": 397,
     "metadata": {},
     "output_type": "execute_result"
    }
   ],
   "source": [
    "my_list"
   ]
  },
  {
   "cell_type": "code",
   "execution_count": 403,
   "id": "6e3c73fe-f775-4bd1-8047-384235f3c5de",
   "metadata": {},
   "outputs": [
    {
     "data": {
      "text/plain": [
       "'d'"
      ]
     },
     "execution_count": 403,
     "metadata": {},
     "output_type": "execute_result"
    }
   ],
   "source": [
    "my_list.pop()\n",
    "# pop function in list is an inplace= True operaation\n",
    "\n",
    "# even though I didn't assign it back to itself, it gave me the modified list\n",
    "# what I mean by assigning back to itself is this: my_list = my_list.pop()"
   ]
  },
  {
   "cell_type": "code",
   "execution_count": 405,
   "id": "15dcc05d-66c5-47b8-a3b1-125ccfefdcde",
   "metadata": {},
   "outputs": [
    {
     "data": {
      "text/plain": [
       "[1, 2, 3, 4, 'a', 'b', 'c']"
      ]
     },
     "execution_count": 405,
     "metadata": {},
     "output_type": "execute_result"
    }
   ],
   "source": [
    "my_list"
   ]
  },
  {
   "cell_type": "code",
   "execution_count": 407,
   "id": "96b41f87-b5c8-4a46-8ba2-f9709878192a",
   "metadata": {},
   "outputs": [
    {
     "data": {
      "text/plain": [
       "4"
      ]
     },
     "execution_count": 407,
     "metadata": {},
     "output_type": "execute_result"
    }
   ],
   "source": [
    "my_list.index('a')"
   ]
  },
  {
   "cell_type": "code",
   "execution_count": 409,
   "id": "37c419dc-5906-41ef-83a4-52295baa9e5e",
   "metadata": {},
   "outputs": [],
   "source": [
    "my_list.append('vanessa')"
   ]
  },
  {
   "cell_type": "code",
   "execution_count": 412,
   "id": "1dd13ad6-f43b-400c-be84-a1dd4ca04b47",
   "metadata": {},
   "outputs": [
    {
     "data": {
      "text/plain": [
       "[1, 2, 3, 4, 'a', 'b', 'c', 'vanessa']"
      ]
     },
     "execution_count": 412,
     "metadata": {},
     "output_type": "execute_result"
    }
   ],
   "source": [
    "my_list"
   ]
  },
  {
   "cell_type": "code",
   "execution_count": 414,
   "id": "b1473d82-3fbf-40cb-aa87-b5e0f1b81dd8",
   "metadata": {},
   "outputs": [],
   "source": [
    "my_list.extend(['jack','charlie','julia'])"
   ]
  },
  {
   "cell_type": "code",
   "execution_count": 416,
   "id": "c508e75e-0cbe-4366-8ff4-a5e6c006c2d8",
   "metadata": {},
   "outputs": [
    {
     "data": {
      "text/plain": [
       "[1, 2, 3, 4, 'a', 'b', 'c', 'vanessa', 'jack', 'charlie', 'julia']"
      ]
     },
     "execution_count": 416,
     "metadata": {},
     "output_type": "execute_result"
    }
   ],
   "source": [
    "my_list"
   ]
  },
  {
   "cell_type": "code",
   "execution_count": 418,
   "id": "580a2e9d-c815-4dce-b3d8-592a2ee40eab",
   "metadata": {},
   "outputs": [],
   "source": [
    "my_list.remove('jack')"
   ]
  },
  {
   "cell_type": "code",
   "execution_count": 420,
   "id": "5329244d-d29a-4186-baed-b678d6edd3b0",
   "metadata": {},
   "outputs": [
    {
     "data": {
      "text/plain": [
       "[1, 2, 3, 4, 'a', 'b', 'c', 'vanessa', 'charlie', 'julia']"
      ]
     },
     "execution_count": 420,
     "metadata": {},
     "output_type": "execute_result"
    }
   ],
   "source": [
    "my_list"
   ]
  },
  {
   "cell_type": "markdown",
   "id": "1c9b681a-ef96-4021-9b86-df4a04b09891",
   "metadata": {},
   "source": [
    "### dictionary"
   ]
  },
  {
   "cell_type": "code",
   "execution_count": 437,
   "id": "82cede88-c2b8-4440-8644-e9f66d9310f5",
   "metadata": {},
   "outputs": [
    {
     "ename": "SyntaxError",
     "evalue": "incomplete input (1506668993.py, line 9)",
     "output_type": "error",
     "traceback": [
      "\u001b[1;36m  Cell \u001b[1;32mIn[437], line 9\u001b[1;36m\u001b[0m\n\u001b[1;33m    \"\"\"\u001b[0m\n\u001b[1;37m    ^\u001b[0m\n\u001b[1;31mSyntaxError\u001b[0m\u001b[1;31m:\u001b[0m incomplete input\n"
     ]
    }
   ],
   "source": [
    "my_dict = {\n",
    "    \"jan\": \"julia\",\n",
    "    \"feb\": \"charlie\",\n",
    "    \"mar\": \"drew\",\n",
    "    \"apr\": \"stacy\"\n",
    "}\n",
    "\n",
    "\n",
    "\"\"\"\n",
    "\n",
    "{\n",
    "\"firstname\": \"charlie\",\n",
    "\"lastname\": \"benet\",\n",
    "\"age\": 9,\n",
    "\"school\": [\"abc primary school\", \"def secondary school\", \"kin high school\"],\n",
    "\"grades\": { \"abc primary school\":\n",
    "            {\"first grade\":\n",
    "                {\"english class\": 90,\n",
    "                 \"math class\" : 100\n",
    "                 }\n",
    "            }\n",
    "         },\n",
    "                {\"def secondary school\":\n",
    "                    {\"fifth grade\":\n",
    "                    ( \"english class\": 70\n",
    "                    }\n",
    "                }\n",
    "                }\n",
    "            "
   ]
  },
  {
   "cell_type": "code",
   "execution_count": 439,
   "id": "a399298b-1e78-4aae-ba69-b6b5e3531c16",
   "metadata": {},
   "outputs": [
    {
     "data": {
      "text/plain": [
       "dict"
      ]
     },
     "execution_count": 439,
     "metadata": {},
     "output_type": "execute_result"
    }
   ],
   "source": [
    "type(my_dict)"
   ]
  },
  {
   "cell_type": "code",
   "execution_count": 441,
   "id": "bd1c628e-e276-4d72-93dc-15eb1e5472ae",
   "metadata": {},
   "outputs": [
    {
     "data": {
      "text/plain": [
       "{'jan': 'julia', 'feb': 'charlie', 'mar': 'drew', 'apr': 'stacy'}"
      ]
     },
     "execution_count": 441,
     "metadata": {},
     "output_type": "execute_result"
    }
   ],
   "source": [
    "my_dict"
   ]
  },
  {
   "cell_type": "code",
   "execution_count": 443,
   "id": "ebc697a5-020a-4c32-8f0d-4434822856b2",
   "metadata": {},
   "outputs": [
    {
     "data": {
      "text/plain": [
       "dict_keys(['jan', 'feb', 'mar', 'apr'])"
      ]
     },
     "execution_count": 443,
     "metadata": {},
     "output_type": "execute_result"
    }
   ],
   "source": [
    "my_dict.keys()"
   ]
  },
  {
   "cell_type": "code",
   "execution_count": 445,
   "id": "9af1b05a-f122-4c80-bfc5-1c40882e2570",
   "metadata": {},
   "outputs": [
    {
     "data": {
      "text/plain": [
       "dict_values(['julia', 'charlie', 'drew', 'stacy'])"
      ]
     },
     "execution_count": 445,
     "metadata": {},
     "output_type": "execute_result"
    }
   ],
   "source": [
    "my_dict.values()"
   ]
  },
  {
   "cell_type": "code",
   "execution_count": 447,
   "id": "021b6e49-8c95-4c8e-8a17-c37c7df613a8",
   "metadata": {},
   "outputs": [
    {
     "data": {
      "text/plain": [
       "dict_items([('jan', 'julia'), ('feb', 'charlie'), ('mar', 'drew'), ('apr', 'stacy')])"
      ]
     },
     "execution_count": 447,
     "metadata": {},
     "output_type": "execute_result"
    }
   ],
   "source": [
    "my_dict.items()"
   ]
  },
  {
   "cell_type": "code",
   "execution_count": 449,
   "id": "4b22a048-fc56-481b-b805-ea04577b31b7",
   "metadata": {},
   "outputs": [
    {
     "data": {
      "text/plain": [
       "'stacy'"
      ]
     },
     "execution_count": 449,
     "metadata": {},
     "output_type": "execute_result"
    }
   ],
   "source": [
    "my_dict[\"apr\"]"
   ]
  },
  {
   "cell_type": "markdown",
   "id": "ee6f72f1-b68a-42ec-a721-bdf693083c5f",
   "metadata": {},
   "source": [
    "### for loop"
   ]
  },
  {
   "cell_type": "code",
   "execution_count": null,
   "id": "a13948c2-eeb4-4283-8272-787e1e14a207",
   "metadata": {},
   "outputs": [],
   "source": [
    "\"\"\"\n",
    "for x in iterable:\n",
    "    condition(some code)\n",
    "\n",
    "x is your iteration point; it is a placeholder\n",
    "iterable is the thing you want to iterate through( some code is whatever you want to do)\n",
    "\n",
    "for key, value in iterable:\n",
    "    somecode\n",
    "\n",
    "key and value are iteration points from dictionary\n",
    "\"\"\"\n",
    "    "
   ]
  },
  {
   "cell_type": "code",
   "execution_count": 452,
   "id": "fdf18101-1107-48f0-aa0e-8a8f369e5c81",
   "metadata": {},
   "outputs": [
    {
     "data": {
      "text/plain": [
       "range(0, 5)"
      ]
     },
     "execution_count": 452,
     "metadata": {},
     "output_type": "execute_result"
    }
   ],
   "source": [
    "range(5)"
   ]
  },
  {
   "cell_type": "code",
   "execution_count": 454,
   "id": "e3f5d0b3-3271-451b-bfb7-2e5a41f93c45",
   "metadata": {},
   "outputs": [
    {
     "data": {
      "text/plain": [
       "[0, 1, 2, 3, 4]"
      ]
     },
     "execution_count": 454,
     "metadata": {},
     "output_type": "execute_result"
    }
   ],
   "source": [
    "list(range(5))"
   ]
  },
  {
   "cell_type": "code",
   "execution_count": 456,
   "id": "cf721b4f-0c80-4324-9e18-e9df1c349167",
   "metadata": {},
   "outputs": [
    {
     "name": "stdout",
     "output_type": "stream",
     "text": [
      "0\n",
      "1\n",
      "2\n",
      "3\n",
      "4\n"
     ]
    }
   ],
   "source": [
    "for x in range(5):\n",
    "    print(x)"
   ]
  },
  {
   "cell_type": "code",
   "execution_count": 458,
   "id": "5b207044-a513-4cb3-a14e-0c5ef65b1b4c",
   "metadata": {},
   "outputs": [
    {
     "name": "stdout",
     "output_type": "stream",
     "text": [
      "d\n",
      "a\n",
      "l\n",
      "l\n",
      "a\n",
      "s\n"
     ]
    }
   ],
   "source": [
    "city = \"dallas\"\n",
    "for x in city:\n",
    "    print(x)"
   ]
  },
  {
   "cell_type": "markdown",
   "id": "3571c991-db49-4a7a-aa96-de34a35fdf8c",
   "metadata": {},
   "source": [
    "## if else"
   ]
  },
  {
   "cell_type": "code",
   "execution_count": null,
   "id": "6144a9f8-85b0-4136-84e3-7d8167e99f1b",
   "metadata": {},
   "outputs": [],
   "source": [
    "\"\"\"\n",
    "if some conditon:\n",
    "    some code\n",
    "elif some other condition:\n",
    "    some more code\n",
    "else:\n",
    "    some more more code\n",
    "\n",
    "\"\"\""
   ]
  },
  {
   "cell_type": "code",
   "execution_count": 465,
   "id": "a9d52933-c230-47be-a792-074e40e2b50f",
   "metadata": {},
   "outputs": [
    {
     "name": "stdout",
     "output_type": "stream",
     "text": [
      "yeah, x is 1\n"
     ]
    }
   ],
   "source": [
    "x = 1\n",
    "y = 10\n",
    "\n",
    "if x == 1:\n",
    "    print(\"yeah, x is 1\")"
   ]
  },
  {
   "cell_type": "code",
   "execution_count": 471,
   "id": "cc6af140-4cd7-4f4b-8692-ca05c8316d97",
   "metadata": {},
   "outputs": [
    {
     "name": "stdout",
     "output_type": "stream",
     "text": [
      "all failed, I am here now\n"
     ]
    }
   ],
   "source": [
    "if x == 7:\n",
    "    print(\"yeah, x is 1\")\n",
    "elif y == 11:\n",
    "    print(\"y is 10\")\n",
    "else:\n",
    "    print(\"all failed, I am here now\")"
   ]
  },
  {
   "cell_type": "code",
   "execution_count": 475,
   "id": "a491817d-a234-45da-b383-7527e538b10e",
   "metadata": {},
   "outputs": [],
   "source": [
    "if x == 7:\n",
    "    print(\"yeah, x is 1\")\n",
    "elif y == 11:\n",
    "    print(\"y is 10\")"
   ]
  },
  {
   "cell_type": "code",
   "execution_count": null,
   "id": "734a891f-83c6-447f-a64b-9644c5ea9e81",
   "metadata": {},
   "outputs": [],
   "source": []
  }
 ],
 "metadata": {
  "kernelspec": {
   "display_name": "Python [conda env:base] *",
   "language": "python",
   "name": "conda-base-py"
  },
  "language_info": {
   "codemirror_mode": {
    "name": "ipython",
    "version": 3
   },
   "file_extension": ".py",
   "mimetype": "text/x-python",
   "name": "python",
   "nbconvert_exporter": "python",
   "pygments_lexer": "ipython3",
   "version": "3.12.7"
  }
 },
 "nbformat": 4,
 "nbformat_minor": 5
}
